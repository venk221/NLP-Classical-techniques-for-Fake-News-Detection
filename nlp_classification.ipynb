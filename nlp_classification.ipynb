{
 "cells": [
  {
   "cell_type": "markdown",
   "id": "be61b7f0",
   "metadata": {},
   "source": [
    "***Explore Essential Information from Text Data and Preprocessing***"
   ]
  },
  {
   "cell_type": "code",
   "execution_count": null,
   "id": "e5a8bf4e",
   "metadata": {},
   "outputs": [],
   "source": [
    "import pandas as pd\n",
    "import numpy as np\n",
    "import nltk\n",
    "import matplotlib.pyplot as plt\n",
    "import seaborn as sns\n",
    "from nltk.corpus import stopwords\n",
    "from nltk.tokenize import word_tokenize\n",
    "from nltk.stem import WordNetLemmatizer, SnowballStemmer\n",
    "from nltk.probability import FreqDist\n",
    "from wordcloud import WordCloud\n",
    "from nltk import pos_tag"
   ]
  },
  {
   "cell_type": "code",
   "execution_count": 147,
   "id": "5dba092c",
   "metadata": {},
   "outputs": [],
   "source": [
    "fake_news_df = pd.read_csv(r\"path\\to\\data\\fake.csv\")\n",
    "true_news_df = pd.read_csv(r\"path\\to\\\\data\\true.csv\")\n",
    "fake_news_df_backup = fake_news_df\n",
    "true_news_df_backup = true_news_df"
   ]
  },
  {
   "cell_type": "code",
   "execution_count": 148,
   "id": "c4f60712",
   "metadata": {},
   "outputs": [
    {
     "data": {
      "text/html": [
       "<div>\n",
       "<style scoped>\n",
       "    .dataframe tbody tr th:only-of-type {\n",
       "        vertical-align: middle;\n",
       "    }\n",
       "\n",
       "    .dataframe tbody tr th {\n",
       "        vertical-align: top;\n",
       "    }\n",
       "\n",
       "    .dataframe thead th {\n",
       "        text-align: right;\n",
       "    }\n",
       "</style>\n",
       "<table border=\"1\" class=\"dataframe\">\n",
       "  <thead>\n",
       "    <tr style=\"text-align: right;\">\n",
       "      <th></th>\n",
       "      <th>title</th>\n",
       "      <th>text</th>\n",
       "      <th>subject</th>\n",
       "      <th>date</th>\n",
       "    </tr>\n",
       "  </thead>\n",
       "  <tbody>\n",
       "    <tr>\n",
       "      <th>0</th>\n",
       "      <td>Donald Trump Sends Out Embarrassing New Year’...</td>\n",
       "      <td>Donald Trump just couldn t wish all Americans ...</td>\n",
       "      <td>News</td>\n",
       "      <td>December 31, 2017</td>\n",
       "    </tr>\n",
       "    <tr>\n",
       "      <th>1</th>\n",
       "      <td>Drunk Bragging Trump Staffer Started Russian ...</td>\n",
       "      <td>House Intelligence Committee Chairman Devin Nu...</td>\n",
       "      <td>News</td>\n",
       "      <td>December 31, 2017</td>\n",
       "    </tr>\n",
       "    <tr>\n",
       "      <th>2</th>\n",
       "      <td>Sheriff David Clarke Becomes An Internet Joke...</td>\n",
       "      <td>On Friday, it was revealed that former Milwauk...</td>\n",
       "      <td>News</td>\n",
       "      <td>December 30, 2017</td>\n",
       "    </tr>\n",
       "    <tr>\n",
       "      <th>3</th>\n",
       "      <td>Trump Is So Obsessed He Even Has Obama’s Name...</td>\n",
       "      <td>On Christmas day, Donald Trump announced that ...</td>\n",
       "      <td>News</td>\n",
       "      <td>December 29, 2017</td>\n",
       "    </tr>\n",
       "    <tr>\n",
       "      <th>4</th>\n",
       "      <td>Pope Francis Just Called Out Donald Trump Dur...</td>\n",
       "      <td>Pope Francis used his annual Christmas Day mes...</td>\n",
       "      <td>News</td>\n",
       "      <td>December 25, 2017</td>\n",
       "    </tr>\n",
       "  </tbody>\n",
       "</table>\n",
       "</div>"
      ],
      "text/plain": [
       "                                               title  \\\n",
       "0   Donald Trump Sends Out Embarrassing New Year’...   \n",
       "1   Drunk Bragging Trump Staffer Started Russian ...   \n",
       "2   Sheriff David Clarke Becomes An Internet Joke...   \n",
       "3   Trump Is So Obsessed He Even Has Obama’s Name...   \n",
       "4   Pope Francis Just Called Out Donald Trump Dur...   \n",
       "\n",
       "                                                text subject  \\\n",
       "0  Donald Trump just couldn t wish all Americans ...    News   \n",
       "1  House Intelligence Committee Chairman Devin Nu...    News   \n",
       "2  On Friday, it was revealed that former Milwauk...    News   \n",
       "3  On Christmas day, Donald Trump announced that ...    News   \n",
       "4  Pope Francis used his annual Christmas Day mes...    News   \n",
       "\n",
       "                date  \n",
       "0  December 31, 2017  \n",
       "1  December 31, 2017  \n",
       "2  December 30, 2017  \n",
       "3  December 29, 2017  \n",
       "4  December 25, 2017  "
      ]
     },
     "execution_count": 148,
     "metadata": {},
     "output_type": "execute_result"
    }
   ],
   "source": [
    "fake_news_df.head()"
   ]
  },
  {
   "cell_type": "code",
   "execution_count": 149,
   "id": "e0aeda8a",
   "metadata": {},
   "outputs": [
    {
     "data": {
      "text/html": [
       "<div>\n",
       "<style scoped>\n",
       "    .dataframe tbody tr th:only-of-type {\n",
       "        vertical-align: middle;\n",
       "    }\n",
       "\n",
       "    .dataframe tbody tr th {\n",
       "        vertical-align: top;\n",
       "    }\n",
       "\n",
       "    .dataframe thead th {\n",
       "        text-align: right;\n",
       "    }\n",
       "</style>\n",
       "<table border=\"1\" class=\"dataframe\">\n",
       "  <thead>\n",
       "    <tr style=\"text-align: right;\">\n",
       "      <th></th>\n",
       "      <th>title</th>\n",
       "      <th>text</th>\n",
       "      <th>subject</th>\n",
       "      <th>date</th>\n",
       "    </tr>\n",
       "  </thead>\n",
       "  <tbody>\n",
       "    <tr>\n",
       "      <th>0</th>\n",
       "      <td>As U.S. budget fight looms, Republicans flip t...</td>\n",
       "      <td>WASHINGTON (Reuters) - The head of a conservat...</td>\n",
       "      <td>politicsNews</td>\n",
       "      <td>December 31, 2017</td>\n",
       "    </tr>\n",
       "    <tr>\n",
       "      <th>1</th>\n",
       "      <td>U.S. military to accept transgender recruits o...</td>\n",
       "      <td>WASHINGTON (Reuters) - Transgender people will...</td>\n",
       "      <td>politicsNews</td>\n",
       "      <td>December 29, 2017</td>\n",
       "    </tr>\n",
       "    <tr>\n",
       "      <th>2</th>\n",
       "      <td>Senior U.S. Republican senator: 'Let Mr. Muell...</td>\n",
       "      <td>WASHINGTON (Reuters) - The special counsel inv...</td>\n",
       "      <td>politicsNews</td>\n",
       "      <td>December 31, 2017</td>\n",
       "    </tr>\n",
       "    <tr>\n",
       "      <th>3</th>\n",
       "      <td>FBI Russia probe helped by Australian diplomat...</td>\n",
       "      <td>WASHINGTON (Reuters) - Trump campaign adviser ...</td>\n",
       "      <td>politicsNews</td>\n",
       "      <td>December 30, 2017</td>\n",
       "    </tr>\n",
       "    <tr>\n",
       "      <th>4</th>\n",
       "      <td>Trump wants Postal Service to charge 'much mor...</td>\n",
       "      <td>SEATTLE/WASHINGTON (Reuters) - President Donal...</td>\n",
       "      <td>politicsNews</td>\n",
       "      <td>December 29, 2017</td>\n",
       "    </tr>\n",
       "  </tbody>\n",
       "</table>\n",
       "</div>"
      ],
      "text/plain": [
       "                                               title  \\\n",
       "0  As U.S. budget fight looms, Republicans flip t...   \n",
       "1  U.S. military to accept transgender recruits o...   \n",
       "2  Senior U.S. Republican senator: 'Let Mr. Muell...   \n",
       "3  FBI Russia probe helped by Australian diplomat...   \n",
       "4  Trump wants Postal Service to charge 'much mor...   \n",
       "\n",
       "                                                text       subject  \\\n",
       "0  WASHINGTON (Reuters) - The head of a conservat...  politicsNews   \n",
       "1  WASHINGTON (Reuters) - Transgender people will...  politicsNews   \n",
       "2  WASHINGTON (Reuters) - The special counsel inv...  politicsNews   \n",
       "3  WASHINGTON (Reuters) - Trump campaign adviser ...  politicsNews   \n",
       "4  SEATTLE/WASHINGTON (Reuters) - President Donal...  politicsNews   \n",
       "\n",
       "                 date  \n",
       "0  December 31, 2017   \n",
       "1  December 29, 2017   \n",
       "2  December 31, 2017   \n",
       "3  December 30, 2017   \n",
       "4  December 29, 2017   "
      ]
     },
     "execution_count": 149,
     "metadata": {},
     "output_type": "execute_result"
    }
   ],
   "source": [
    "true_news_df.head()"
   ]
  },
  {
   "cell_type": "code",
   "execution_count": null,
   "id": "76166464",
   "metadata": {},
   "outputs": [],
   "source": [
    "nltk.download('punkt')\n",
    "nltk.download('stopwords')\n",
    "nltk.download('wordnet')\n",
    "nltk.download('averaged_perceptron_tagger')"
   ]
  },
  {
   "cell_type": "code",
   "execution_count": 151,
   "id": "a049a552",
   "metadata": {},
   "outputs": [],
   "source": [
    "stop_words = set(stopwords.words('english'))\n",
    "wordnet_lem = WordNetLemmatizer()\n",
    "eng_stems = SnowballStemmer('english')"
   ]
  },
  {
   "cell_type": "markdown",
   "id": "6f789fe2",
   "metadata": {},
   "source": [
    "All three columns viz title, text and subject are important for ML algos."
   ]
  },
  {
   "cell_type": "code",
   "execution_count": 152,
   "id": "de457ab5",
   "metadata": {},
   "outputs": [],
   "source": [
    "def Data_Cleaning(df, ColumnName):\n",
    "    fdist = []\n",
    "    for i in range(len(df[ColumnName])):\n",
    "        tokens = word_tokenize(df[ColumnName][i].lower())\n",
    "        removed_stopwords = [word for word in tokens if (not word in stop_words) and (word.isalpha())]\n",
    "        for k in removed_stopwords:\n",
    "            fdist.append(k)\n",
    "        lemmas = [wordnet_lem.lemmatize(word) for word in removed_stopwords]\n",
    "        stems = [eng_stems.stem(word) for word in lemmas]\n",
    "        df[ColumnName][i] = stems\n",
    "    fdist = FreqDist(fdist)\n",
    "    return df, fdist"
   ]
  },
  {
   "cell_type": "code",
   "execution_count": 153,
   "id": "67eef8a9",
   "metadata": {},
   "outputs": [],
   "source": [
    "fake_news_df, most_common_fake_title = Data_Cleaning(fake_news_df, \"title\")\n",
    "fake_news_df, most_common_fake_text = Data_Cleaning(fake_news_df, \"text\")\n",
    "true_news_df, most_common_true_title = Data_Cleaning(true_news_df, \"title\")\n",
    "true_news_df, most_common_true_text = Data_Cleaning(true_news_df, \"text\")"
   ]
  },
  {
   "cell_type": "code",
   "execution_count": 154,
   "id": "8e4195b4",
   "metadata": {},
   "outputs": [],
   "source": [
    "fake_news_df_backup2 = fake_news_df\n",
    "true_news_df_backup2 = true_news_df"
   ]
  },
  {
   "cell_type": "code",
   "execution_count": 155,
   "id": "56d184b5",
   "metadata": {},
   "outputs": [
    {
     "data": {
      "image/png": "[encoded data removed]",
      "text/plain": [
       "<Figure size 2000x1000 with 1 Axes>"
      ]
     },
     "metadata": {},
     "output_type": "display_data"
    }
   ],
   "source": [
    "plt.figure(figsize=(20, 10))\n",
    "plt.title(\"Top 100 Words in Fake News Articles\")\n",
    "most_common_fake_text.plot(100)\n",
    "plt.show()"
   ]
  },
  {
   "cell_type": "code",
   "execution_count": 156,
   "id": "b31507e3",
   "metadata": {},
   "outputs": [
    {
     "data": {
      "image/png": "[encoded data removed]",
      "text/plain": [
       "<Figure size 2000x1000 with 1 Axes>"
      ]
     },
     "metadata": {},
     "output_type": "display_data"
    }
   ],
   "source": [
    "plt.figure(figsize=(20, 10))\n",
    "plt.title(\"Top 100 Words in Fake News Article Titles\")\n",
    "most_common_fake_title.plot(100)\n",
    "plt.show()"
   ]
  },
  {
   "cell_type": "code",
   "execution_count": 157,
   "id": "fa6e48c2",
   "metadata": {},
   "outputs": [
    {
     "data": {
      "image/png": "[encoded data removed]",
      "text/plain": [
       "<Figure size 2000x1000 with 1 Axes>"
      ]
     },
     "metadata": {},
     "output_type": "display_data"
    }
   ],
   "source": [
    "plt.figure(figsize=(20, 10))\n",
    "plt.title(\"Top 100 Words in True News Article Titles\")\n",
    "most_common_true_title.plot(100)\n",
    "plt.show()"
   ]
  },
  {
   "cell_type": "code",
   "execution_count": 158,
   "id": "0893540c",
   "metadata": {},
   "outputs": [
    {
     "data": {
      "image/png": "[encoded data removed]",
      "text/plain": [
       "<Figure size 2000x1000 with 1 Axes>"
      ]
     },
     "metadata": {},
     "output_type": "display_data"
    }
   ],
   "source": [
    "plt.figure(figsize=(20, 10))\n",
    "plt.title(\"Top 100 Words in True News Articles\")\n",
    "most_common_true_text.plot(100)\n",
    "plt.show()"
   ]
  },
  {
   "cell_type": "markdown",
   "id": "aa465126",
   "metadata": {},
   "source": [
    "***Build Machine Learning Model***"
   ]
  },
  {
   "cell_type": "code",
   "execution_count": 159,
   "id": "7606e792",
   "metadata": {},
   "outputs": [],
   "source": [
    "from sklearn.feature_extraction.text import CountVectorizer, TfidfVectorizer\n",
    "from sklearn.naive_bayes import MultinomialNB\n",
    "from sklearn.model_selection import train_test_split\n",
    "from sklearn.metrics import accuracy_score, classification_report\n",
    "from scipy.sparse import csr_matrix\n",
    "from sklearn.ensemble import RandomForestClassifier\n",
    "from sklearn.tree import DecisionTreeClassifier\n",
    "from sklearn.metrics import confusion_matrix"
   ]
  },
  {
   "cell_type": "code",
   "execution_count": 160,
   "id": "6850a98c",
   "metadata": {},
   "outputs": [],
   "source": [
    "fake_news_df['label'] = 0\n",
    "true_news_df['label'] = 1"
   ]
  },
  {
   "cell_type": "code",
   "execution_count": 161,
   "id": "c57311df",
   "metadata": {},
   "outputs": [
    {
     "data": {
      "text/plain": [
       "(23481, 5)"
      ]
     },
     "execution_count": 161,
     "metadata": {},
     "output_type": "execute_result"
    }
   ],
   "source": [
    "fake_news_df.shape"
   ]
  },
  {
   "cell_type": "code",
   "execution_count": 162,
   "id": "61402448",
   "metadata": {},
   "outputs": [
    {
     "data": {
      "text/plain": [
       "(21417, 5)"
      ]
     },
     "execution_count": 162,
     "metadata": {},
     "output_type": "execute_result"
    }
   ],
   "source": [
    "true_news_df.shape"
   ]
  },
  {
   "cell_type": "code",
   "execution_count": 163,
   "id": "71c8da78",
   "metadata": {},
   "outputs": [],
   "source": [
    "df = pd.concat([fake_news_df, true_news_df])"
   ]
  },
  {
   "cell_type": "code",
   "execution_count": 164,
   "id": "4a13649f",
   "metadata": {},
   "outputs": [
    {
     "data": {
      "text/html": [
       "<div>\n",
       "<style scoped>\n",
       "    .dataframe tbody tr th:only-of-type {\n",
       "        vertical-align: middle;\n",
       "    }\n",
       "\n",
       "    .dataframe tbody tr th {\n",
       "        vertical-align: top;\n",
       "    }\n",
       "\n",
       "    .dataframe thead th {\n",
       "        text-align: right;\n",
       "    }\n",
       "</style>\n",
       "<table border=\"1\" class=\"dataframe\">\n",
       "  <thead>\n",
       "    <tr style=\"text-align: right;\">\n",
       "      <th></th>\n",
       "      <th>title</th>\n",
       "      <th>text</th>\n",
       "      <th>subject</th>\n",
       "      <th>date</th>\n",
       "      <th>label</th>\n",
       "    </tr>\n",
       "  </thead>\n",
       "  <tbody>\n",
       "    <tr>\n",
       "      <th>0</th>\n",
       "      <td>[megyn, kelli, reveal, creepi, way, donald, tr...</td>\n",
       "      <td>[donald, trump, singl, mani, peopl, campaign, ...</td>\n",
       "      <td>News</td>\n",
       "      <td>January 4, 2016</td>\n",
       "      <td>0</td>\n",
       "    </tr>\n",
       "    <tr>\n",
       "      <th>1</th>\n",
       "      <td>[watch, black, driver, brave, shame, cop, drew...</td>\n",
       "      <td>[black, america, get, pull, cop, even, smalles...</td>\n",
       "      <td>News</td>\n",
       "      <td>September 10, 2017</td>\n",
       "      <td>0</td>\n",
       "    </tr>\n",
       "    <tr>\n",
       "      <th>2</th>\n",
       "      <td>[matti, look, way, bring, russia, complianc, a...</td>\n",
       "      <td>[brussel, reuter, defens, secretari, jim, matt...</td>\n",
       "      <td>politicsNews</td>\n",
       "      <td>November 9, 2017</td>\n",
       "      <td>1</td>\n",
       "    </tr>\n",
       "    <tr>\n",
       "      <th>3</th>\n",
       "      <td>[harm, disastr, opinion, antonin, scalia, care...</td>\n",
       "      <td>[justic, antonin, scalia, impress, career, app...</td>\n",
       "      <td>News</td>\n",
       "      <td>February 14, 2016</td>\n",
       "      <td>0</td>\n",
       "    </tr>\n",
       "    <tr>\n",
       "      <th>4</th>\n",
       "      <td>[maxin, water, peopl, tri, discredit, video]</td>\n",
       "      <td>[maxin, got, makeov, hop, mad, specul, run, po...</td>\n",
       "      <td>left-news</td>\n",
       "      <td>Jul 22, 2017</td>\n",
       "      <td>0</td>\n",
       "    </tr>\n",
       "  </tbody>\n",
       "</table>\n",
       "</div>"
      ],
      "text/plain": [
       "                                               title  \\\n",
       "0  [megyn, kelli, reveal, creepi, way, donald, tr...   \n",
       "1  [watch, black, driver, brave, shame, cop, drew...   \n",
       "2  [matti, look, way, bring, russia, complianc, a...   \n",
       "3  [harm, disastr, opinion, antonin, scalia, care...   \n",
       "4       [maxin, water, peopl, tri, discredit, video]   \n",
       "\n",
       "                                                text       subject  \\\n",
       "0  [donald, trump, singl, mani, peopl, campaign, ...          News   \n",
       "1  [black, america, get, pull, cop, even, smalles...          News   \n",
       "2  [brussel, reuter, defens, secretari, jim, matt...  politicsNews   \n",
       "3  [justic, antonin, scalia, impress, career, app...          News   \n",
       "4  [maxin, got, makeov, hop, mad, specul, run, po...     left-news   \n",
       "\n",
       "                 date  label  \n",
       "0     January 4, 2016      0  \n",
       "1  September 10, 2017      0  \n",
       "2   November 9, 2017       1  \n",
       "3   February 14, 2016      0  \n",
       "4        Jul 22, 2017      0  "
      ]
     },
     "execution_count": 164,
     "metadata": {},
     "output_type": "execute_result"
    }
   ],
   "source": [
    "df = df.sample(frac=1).reset_index(drop=True)\n",
    "df.head()"
   ]
  },
  {
   "cell_type": "code",
   "execution_count": 165,
   "id": "db9b90db",
   "metadata": {},
   "outputs": [
    {
     "data": {
      "text/plain": [
       "(44898, 5)"
      ]
     },
     "execution_count": 165,
     "metadata": {},
     "output_type": "execute_result"
    }
   ],
   "source": [
    "df.shape"
   ]
  },
  {
   "cell_type": "code",
   "execution_count": 166,
   "id": "c3d4f505",
   "metadata": {},
   "outputs": [
    {
     "data": {
      "text/plain": [
       "title      0\n",
       "text       0\n",
       "subject    0\n",
       "date       0\n",
       "label      0\n",
       "dtype: int64"
      ]
     },
     "execution_count": 166,
     "metadata": {},
     "output_type": "execute_result"
    }
   ],
   "source": [
    "df.isnull().sum()"
   ]
  },
  {
   "cell_type": "code",
   "execution_count": 167,
   "id": "de2b0d69",
   "metadata": {},
   "outputs": [],
   "source": [
    "df['title'] = df['title'].apply(lambda x: ' '.join(x))\n",
    "df['text'] = df['text'].apply(lambda y: ' '.join(y))"
   ]
  },
  {
   "cell_type": "code",
   "execution_count": 168,
   "id": "58ad8a16",
   "metadata": {},
   "outputs": [
    {
     "data": {
      "text/html": [
       "<div>\n",
       "<style scoped>\n",
       "    .dataframe tbody tr th:only-of-type {\n",
       "        vertical-align: middle;\n",
       "    }\n",
       "\n",
       "    .dataframe tbody tr th {\n",
       "        vertical-align: top;\n",
       "    }\n",
       "\n",
       "    .dataframe thead th {\n",
       "        text-align: right;\n",
       "    }\n",
       "</style>\n",
       "<table border=\"1\" class=\"dataframe\">\n",
       "  <thead>\n",
       "    <tr style=\"text-align: right;\">\n",
       "      <th></th>\n",
       "      <th>title</th>\n",
       "      <th>text</th>\n",
       "      <th>subject</th>\n",
       "      <th>date</th>\n",
       "      <th>label</th>\n",
       "    </tr>\n",
       "  </thead>\n",
       "  <tbody>\n",
       "    <tr>\n",
       "      <th>0</th>\n",
       "      <td>megyn kelli reveal creepi way donald trump tri...</td>\n",
       "      <td>donald trump singl mani peopl campaign none re...</td>\n",
       "      <td>News</td>\n",
       "      <td>January 4, 2016</td>\n",
       "      <td>0</td>\n",
       "    </tr>\n",
       "    <tr>\n",
       "      <th>1</th>\n",
       "      <td>watch black driver brave shame cop drew gun tu...</td>\n",
       "      <td>black america get pull cop even smallest infra...</td>\n",
       "      <td>News</td>\n",
       "      <td>September 10, 2017</td>\n",
       "      <td>0</td>\n",
       "    </tr>\n",
       "    <tr>\n",
       "      <th>2</th>\n",
       "      <td>matti look way bring russia complianc arm cont...</td>\n",
       "      <td>brussel reuter defens secretari jim matti said...</td>\n",
       "      <td>politicsNews</td>\n",
       "      <td>November 9, 2017</td>\n",
       "      <td>1</td>\n",
       "    </tr>\n",
       "    <tr>\n",
       "      <th>3</th>\n",
       "      <td>harm disastr opinion antonin scalia career quot</td>\n",
       "      <td>justic antonin scalia impress career appoint s...</td>\n",
       "      <td>News</td>\n",
       "      <td>February 14, 2016</td>\n",
       "      <td>0</td>\n",
       "    </tr>\n",
       "    <tr>\n",
       "      <th>4</th>\n",
       "      <td>maxin water peopl tri discredit video</td>\n",
       "      <td>maxin got makeov hop mad specul run potus help...</td>\n",
       "      <td>left-news</td>\n",
       "      <td>Jul 22, 2017</td>\n",
       "      <td>0</td>\n",
       "    </tr>\n",
       "  </tbody>\n",
       "</table>\n",
       "</div>"
      ],
      "text/plain": [
       "                                               title  \\\n",
       "0  megyn kelli reveal creepi way donald trump tri...   \n",
       "1  watch black driver brave shame cop drew gun tu...   \n",
       "2  matti look way bring russia complianc arm cont...   \n",
       "3    harm disastr opinion antonin scalia career quot   \n",
       "4              maxin water peopl tri discredit video   \n",
       "\n",
       "                                                text       subject  \\\n",
       "0  donald trump singl mani peopl campaign none re...          News   \n",
       "1  black america get pull cop even smallest infra...          News   \n",
       "2  brussel reuter defens secretari jim matti said...  politicsNews   \n",
       "3  justic antonin scalia impress career appoint s...          News   \n",
       "4  maxin got makeov hop mad specul run potus help...     left-news   \n",
       "\n",
       "                 date  label  \n",
       "0     January 4, 2016      0  \n",
       "1  September 10, 2017      0  \n",
       "2   November 9, 2017       1  \n",
       "3   February 14, 2016      0  \n",
       "4        Jul 22, 2017      0  "
      ]
     },
     "execution_count": 168,
     "metadata": {},
     "output_type": "execute_result"
    }
   ],
   "source": [
    "df.head()"
   ]
  },
  {
   "cell_type": "code",
   "execution_count": 169,
   "id": "b0ee9a2f",
   "metadata": {},
   "outputs": [],
   "source": [
    "counter = CountVectorizer()"
   ]
  },
  {
   "cell_type": "code",
   "execution_count": 171,
   "id": "4b3bd14a",
   "metadata": {},
   "outputs": [],
   "source": [
    "df1 = df"
   ]
  },
  {
   "cell_type": "code",
   "execution_count": 172,
   "id": "c214bc67",
   "metadata": {},
   "outputs": [],
   "source": [
    "df1[\"combined_text\"] = df1['title'] + df1['text']"
   ]
  },
  {
   "cell_type": "code",
   "execution_count": 173,
   "id": "76db2961",
   "metadata": {},
   "outputs": [],
   "source": [
    "X = counter.fit_transform(df1[\"combined_text\"])"
   ]
  },
  {
   "cell_type": "code",
   "execution_count": 174,
   "id": "d9c9a4e1",
   "metadata": {},
   "outputs": [],
   "source": [
    "vocabulary = counter.get_feature_names_out()\n",
    "document_term_matrix = X.toarray()"
   ]
  },
  {
   "cell_type": "code",
   "execution_count": 175,
   "id": "d5c0d005",
   "metadata": {},
   "outputs": [],
   "source": [
    "document_term_matrix = document_term_matrix.astype(np.uint8)"
   ]
  },
  {
   "cell_type": "code",
   "execution_count": 177,
   "id": "0c7d8e8b",
   "metadata": {},
   "outputs": [],
   "source": [
    "x_train, x_test, y_train, y_test = train_test_split(document_term_matrix, df1[\"label\"], test_size=0.2, random_state=42)"
   ]
  },
  {
   "cell_type": "code",
   "execution_count": 178,
   "id": "76d730f9",
   "metadata": {},
   "outputs": [],
   "source": [
    "x_train = csr_matrix(x_train)\n",
    "x_test = csr_matrix(x_test)"
   ]
  },
  {
   "cell_type": "markdown",
   "id": "dbdc81ee",
   "metadata": {},
   "source": [
    "***NAIVE BAYES BOW***"
   ]
  },
  {
   "cell_type": "code",
   "execution_count": 179,
   "id": "2dadcad7",
   "metadata": {},
   "outputs": [],
   "source": [
    "NB = MultinomialNB()"
   ]
  },
  {
   "cell_type": "code",
   "execution_count": 180,
   "id": "881faa5f",
   "metadata": {},
   "outputs": [],
   "source": [
    "NB_BoW_model = NB.fit(x_train, y_train)"
   ]
  },
  {
   "cell_type": "code",
   "execution_count": 181,
   "id": "5cc3ae61",
   "metadata": {},
   "outputs": [],
   "source": [
    "NB_BoW_Results_train = NB_BoW_model.predict(x_train)"
   ]
  },
  {
   "cell_type": "code",
   "execution_count": 182,
   "id": "b32df4be",
   "metadata": {},
   "outputs": [
    {
     "data": {
      "text/plain": [
       "95.39228242107022"
      ]
     },
     "execution_count": 182,
     "metadata": {},
     "output_type": "execute_result"
    }
   ],
   "source": [
    "NB_BoW_Results_train = accuracy_score(NB_BoW_Results_train, y_train)\n",
    "NB_BoW_Results_train*100"
   ]
  },
  {
   "cell_type": "code",
   "execution_count": 183,
   "id": "f6588eed",
   "metadata": {},
   "outputs": [],
   "source": [
    "NB_BoW_Results = NB_BoW_model.predict(x_test)"
   ]
  },
  {
   "cell_type": "code",
   "execution_count": 184,
   "id": "b3413795",
   "metadata": {},
   "outputs": [
    {
     "data": {
      "text/plain": [
       "94.78841870824053"
      ]
     },
     "execution_count": 184,
     "metadata": {},
     "output_type": "execute_result"
    }
   ],
   "source": [
    "NB_BoW_Acc = accuracy_score(NB_BoW_Results, y_test)\n",
    "NB_BoW_Acc*100"
   ]
  },
  {
   "cell_type": "code",
   "execution_count": 185,
   "id": "dcd925f0",
   "metadata": {},
   "outputs": [
    {
     "data": {
      "text/plain": [
       "array([[4417,  222],\n",
       "       [ 246, 4095]], dtype=int64)"
      ]
     },
     "execution_count": 185,
     "metadata": {},
     "output_type": "execute_result"
    }
   ],
   "source": [
    "NB_Conf_Matrix = confusion_matrix(NB_BoW_Results, y_test)\n",
    "NB_Conf_Matrix"
   ]
  },
  {
   "cell_type": "code",
   "execution_count": 186,
   "id": "e4607e8d",
   "metadata": {},
   "outputs": [
    {
     "name": "stdout",
     "output_type": "stream",
     "text": [
      "              precision    recall  f1-score   support\n",
      "\n",
      "           0       0.95      0.95      0.95      4639\n",
      "           1       0.95      0.94      0.95      4341\n",
      "\n",
      "    accuracy                           0.95      8980\n",
      "   macro avg       0.95      0.95      0.95      8980\n",
      "weighted avg       0.95      0.95      0.95      8980\n",
      "\n"
     ]
    }
   ],
   "source": [
    "NB_BoW_Report = classification_report(NB_BoW_Results, y_test)\n",
    "print(NB_BoW_Report)"
   ]
  },
  {
   "cell_type": "markdown",
   "id": "36e645cf",
   "metadata": {},
   "source": [
    "***RANDOM FOREST BOW***"
   ]
  },
  {
   "cell_type": "code",
   "execution_count": 187,
   "id": "c8643ef5",
   "metadata": {},
   "outputs": [],
   "source": [
    "RF = RandomForestClassifier()"
   ]
  },
  {
   "cell_type": "code",
   "execution_count": 188,
   "id": "f3b2ccf7",
   "metadata": {},
   "outputs": [],
   "source": [
    "RF_BoW_model = RF.fit(x_train, y_train)"
   ]
  },
  {
   "cell_type": "code",
   "execution_count": 189,
   "id": "942a77d7",
   "metadata": {},
   "outputs": [],
   "source": [
    "RF_BoW_Results_train = RF_BoW_model.predict(x_train)"
   ]
  },
  {
   "cell_type": "code",
   "execution_count": 190,
   "id": "cc24a991",
   "metadata": {},
   "outputs": [
    {
     "data": {
      "text/plain": [
       "100.0"
      ]
     },
     "execution_count": 190,
     "metadata": {},
     "output_type": "execute_result"
    }
   ],
   "source": [
    "RF_BoW_Acc_train = accuracy_score(RF_BoW_Results_train, y_train)\n",
    "RF_BoW_Acc_train*100"
   ]
  },
  {
   "cell_type": "code",
   "execution_count": 191,
   "id": "e529fe67",
   "metadata": {},
   "outputs": [
    {
     "data": {
      "text/plain": [
       "array([[18818,     0],\n",
       "       [    0, 17100]], dtype=int64)"
      ]
     },
     "execution_count": 191,
     "metadata": {},
     "output_type": "execute_result"
    }
   ],
   "source": [
    "RF_Conf_Matrix_train = confusion_matrix(RF_BoW_Results_train, y_train)\n",
    "RF_Conf_Matrix_train"
   ]
  },
  {
   "cell_type": "code",
   "execution_count": 192,
   "id": "16c59692",
   "metadata": {},
   "outputs": [],
   "source": [
    "RF_BoW_Results = RF_BoW_model.predict(x_test)"
   ]
  },
  {
   "cell_type": "code",
   "execution_count": 193,
   "id": "2d416b17",
   "metadata": {},
   "outputs": [
    {
     "data": {
      "text/plain": [
       "98.61915367483296"
      ]
     },
     "execution_count": 193,
     "metadata": {},
     "output_type": "execute_result"
    }
   ],
   "source": [
    "RF_BoW_Acc = accuracy_score(RF_BoW_Results, y_test)\n",
    "RF_BoW_Acc*100"
   ]
  },
  {
   "cell_type": "code",
   "execution_count": 194,
   "id": "b8219639",
   "metadata": {},
   "outputs": [
    {
     "data": {
      "text/plain": [
       "array([[4595,   56],\n",
       "       [  68, 4261]], dtype=int64)"
      ]
     },
     "execution_count": 194,
     "metadata": {},
     "output_type": "execute_result"
    }
   ],
   "source": [
    "RF_Conf_Matrix = confusion_matrix(RF_BoW_Results, y_test)\n",
    "RF_Conf_Matrix"
   ]
  },
  {
   "cell_type": "code",
   "execution_count": 195,
   "id": "1589b872",
   "metadata": {},
   "outputs": [
    {
     "name": "stdout",
     "output_type": "stream",
     "text": [
      "              precision    recall  f1-score   support\n",
      "\n",
      "           0       0.99      0.99      0.99      4651\n",
      "           1       0.99      0.98      0.99      4329\n",
      "\n",
      "    accuracy                           0.99      8980\n",
      "   macro avg       0.99      0.99      0.99      8980\n",
      "weighted avg       0.99      0.99      0.99      8980\n",
      "\n"
     ]
    }
   ],
   "source": [
    "RF_BoW_Report = classification_report(RF_BoW_Results, y_test)\n",
    "print(RF_BoW_Report)"
   ]
  },
  {
   "cell_type": "markdown",
   "id": "c61a0eea",
   "metadata": {},
   "source": [
    "***DECISION TREE BOW***"
   ]
  },
  {
   "cell_type": "code",
   "execution_count": 196,
   "id": "941c10b8",
   "metadata": {},
   "outputs": [],
   "source": [
    "DT = DecisionTreeClassifier()"
   ]
  },
  {
   "cell_type": "code",
   "execution_count": 197,
   "id": "10dd72c7",
   "metadata": {},
   "outputs": [],
   "source": [
    "DT_BoW_model = DT.fit(x_train, y_train)"
   ]
  },
  {
   "cell_type": "code",
   "execution_count": 198,
   "id": "c4cf3380",
   "metadata": {},
   "outputs": [],
   "source": [
    "DT_BoW_Results_train = DT_BoW_model.predict(x_train)"
   ]
  },
  {
   "cell_type": "code",
   "execution_count": 199,
   "id": "77fe9046",
   "metadata": {},
   "outputs": [
    {
     "data": {
      "text/plain": [
       "100.0"
      ]
     },
     "execution_count": 199,
     "metadata": {},
     "output_type": "execute_result"
    }
   ],
   "source": [
    "DT_BoW_Acc_train = accuracy_score(DT_BoW_Results_train, y_train)\n",
    "DT_BoW_Acc_train*100"
   ]
  },
  {
   "cell_type": "code",
   "execution_count": 200,
   "id": "6b293796",
   "metadata": {},
   "outputs": [
    {
     "data": {
      "text/plain": [
       "array([[18818,     0],\n",
       "       [    0, 17100]], dtype=int64)"
      ]
     },
     "execution_count": 200,
     "metadata": {},
     "output_type": "execute_result"
    }
   ],
   "source": [
    "DT_Conf_Matrix_train = confusion_matrix(DT_BoW_Results_train, y_train)\n",
    "DT_Conf_Matrix_train"
   ]
  },
  {
   "cell_type": "code",
   "execution_count": 201,
   "id": "575a4b57",
   "metadata": {},
   "outputs": [],
   "source": [
    "DT_BoW_Results = DT_BoW_model.predict(x_test)"
   ]
  },
  {
   "cell_type": "code",
   "execution_count": 202,
   "id": "29a0f971",
   "metadata": {},
   "outputs": [
    {
     "data": {
      "text/plain": [
       "97.87305122494432"
      ]
     },
     "execution_count": 202,
     "metadata": {},
     "output_type": "execute_result"
    }
   ],
   "source": [
    "DT_BoW_Acc = accuracy_score(DT_BoW_Results, y_test)\n",
    "DT_BoW_Acc*100"
   ]
  },
  {
   "cell_type": "code",
   "execution_count": 203,
   "id": "56a1e19d",
   "metadata": {},
   "outputs": [
    {
     "data": {
      "text/plain": [
       "array([[4597,  125],\n",
       "       [  66, 4192]], dtype=int64)"
      ]
     },
     "execution_count": 203,
     "metadata": {},
     "output_type": "execute_result"
    }
   ],
   "source": [
    "DT_Conf_Matrix = confusion_matrix(DT_BoW_Results, y_test)\n",
    "DT_Conf_Matrix"
   ]
  },
  {
   "cell_type": "code",
   "execution_count": 204,
   "id": "82a67376",
   "metadata": {},
   "outputs": [
    {
     "name": "stdout",
     "output_type": "stream",
     "text": [
      "              precision    recall  f1-score   support\n",
      "\n",
      "           0       0.99      0.97      0.98      4722\n",
      "           1       0.97      0.98      0.98      4258\n",
      "\n",
      "    accuracy                           0.98      8980\n",
      "   macro avg       0.98      0.98      0.98      8980\n",
      "weighted avg       0.98      0.98      0.98      8980\n",
      "\n"
     ]
    }
   ],
   "source": [
    "DT_BoW_Report = classification_report(DT_BoW_Results, y_test)\n",
    "print(DT_BoW_Report)"
   ]
  },
  {
   "cell_type": "markdown",
   "id": "86b68d59",
   "metadata": {},
   "source": [
    "***Implementing TF-IDF***"
   ]
  },
  {
   "cell_type": "code",
   "execution_count": 205,
   "id": "3fc7ca7f",
   "metadata": {},
   "outputs": [],
   "source": [
    "x_train_tfidf, x_test_tfidf, y_train_tfidf, y_test_tfidf = train_test_split(df1[\"combined_text\"], df1[\"label\"], test_size=0.2, random_state=42)"
   ]
  },
  {
   "cell_type": "code",
   "execution_count": 206,
   "id": "93a55557",
   "metadata": {},
   "outputs": [],
   "source": [
    "tfidf_vect = TfidfVectorizer()"
   ]
  },
  {
   "cell_type": "code",
   "execution_count": 207,
   "id": "f3929a8c",
   "metadata": {},
   "outputs": [],
   "source": [
    "x_train_tfidf = tfidf_vect.fit_transform(x_train_tfidf)\n",
    "x_test_tfidf = tfidf_vect.transform(x_test_tfidf)"
   ]
  },
  {
   "cell_type": "markdown",
   "id": "ece4834e",
   "metadata": {},
   "source": [
    "***Naive Bayes TF-IDF***"
   ]
  },
  {
   "cell_type": "code",
   "execution_count": 208,
   "id": "dd4b7dec",
   "metadata": {},
   "outputs": [],
   "source": [
    "NB_TFIDF_Model = NB.fit(x_train_tfidf, y_train_tfidf)"
   ]
  },
  {
   "cell_type": "code",
   "execution_count": 209,
   "id": "7bc9d51e",
   "metadata": {},
   "outputs": [],
   "source": [
    "NB_TFIDF_Results_train = NB_TFIDF_Model.predict(x_train_tfidf)"
   ]
  },
  {
   "cell_type": "code",
   "execution_count": 210,
   "id": "42f6e2b6",
   "metadata": {},
   "outputs": [
    {
     "data": {
      "text/plain": [
       "93.66891252296898"
      ]
     },
     "execution_count": 210,
     "metadata": {},
     "output_type": "execute_result"
    }
   ],
   "source": [
    "NB_TFIDF_Acc_train = accuracy_score(NB_TFIDF_Results_train, y_train_tfidf)\n",
    "NB_TFIDF_Acc_train*100"
   ]
  },
  {
   "cell_type": "code",
   "execution_count": 211,
   "id": "4d7a6bd8",
   "metadata": {},
   "outputs": [
    {
     "data": {
      "text/plain": [
       "array([[17883,  1339],\n",
       "       [  935, 15761]], dtype=int64)"
      ]
     },
     "execution_count": 211,
     "metadata": {},
     "output_type": "execute_result"
    }
   ],
   "source": [
    "NB_TFIDF_train_conf_mat = confusion_matrix(NB_TFIDF_Results_train, y_train_tfidf)\n",
    "NB_TFIDF_train_conf_mat"
   ]
  },
  {
   "cell_type": "code",
   "execution_count": 212,
   "id": "206ddd9d",
   "metadata": {},
   "outputs": [],
   "source": [
    "NB_TFIDF_Results = NB_TFIDF_Model.predict(x_test_tfidf)"
   ]
  },
  {
   "cell_type": "code",
   "execution_count": 213,
   "id": "55aa11cb",
   "metadata": {},
   "outputs": [
    {
     "data": {
      "text/plain": [
       "93.10690423162583"
      ]
     },
     "execution_count": 213,
     "metadata": {},
     "output_type": "execute_result"
    }
   ],
   "source": [
    "NB_TFIDF_Acc = accuracy_score(NB_TFIDF_Results, y_test_tfidf)\n",
    "NB_TFIDF_Acc*100"
   ]
  },
  {
   "cell_type": "code",
   "execution_count": 214,
   "id": "7f090412",
   "metadata": {},
   "outputs": [
    {
     "data": {
      "text/plain": [
       "array([[4417,  373],\n",
       "       [ 246, 3944]], dtype=int64)"
      ]
     },
     "execution_count": 214,
     "metadata": {},
     "output_type": "execute_result"
    }
   ],
   "source": [
    "NB_TFIDF_conf_mat = confusion_matrix(NB_TFIDF_Results, y_test_tfidf)\n",
    "NB_TFIDF_conf_mat"
   ]
  },
  {
   "cell_type": "code",
   "execution_count": 215,
   "id": "5aea83f5",
   "metadata": {},
   "outputs": [
    {
     "name": "stdout",
     "output_type": "stream",
     "text": [
      "              precision    recall  f1-score   support\n",
      "\n",
      "           0       0.95      0.92      0.93      4790\n",
      "           1       0.91      0.94      0.93      4190\n",
      "\n",
      "    accuracy                           0.93      8980\n",
      "   macro avg       0.93      0.93      0.93      8980\n",
      "weighted avg       0.93      0.93      0.93      8980\n",
      "\n"
     ]
    }
   ],
   "source": [
    "NB_TFIDF_report = classification_report(NB_TFIDF_Results, y_test_tfidf)\n",
    "print(NB_TFIDF_report)"
   ]
  },
  {
   "cell_type": "markdown",
   "id": "7a0514d1",
   "metadata": {},
   "source": [
    "***Random Forest TF-IDF***"
   ]
  },
  {
   "cell_type": "code",
   "execution_count": 216,
   "id": "f20ef073",
   "metadata": {},
   "outputs": [],
   "source": [
    "RF_TFIDF_Model = RF.fit(x_train_tfidf, y_train_tfidf)"
   ]
  },
  {
   "cell_type": "code",
   "execution_count": 217,
   "id": "6ba5a764",
   "metadata": {},
   "outputs": [],
   "source": [
    "RF_TFIDF_Results_train = RF_TFIDF_Model.predict(x_train_tfidf)"
   ]
  },
  {
   "cell_type": "code",
   "execution_count": 218,
   "id": "17688778",
   "metadata": {},
   "outputs": [
    {
     "data": {
      "text/plain": [
       "100.0"
      ]
     },
     "execution_count": 218,
     "metadata": {},
     "output_type": "execute_result"
    }
   ],
   "source": [
    "RF_TFIDF_Acc_train = accuracy_score(RF_TFIDF_Results_train, y_train_tfidf)\n",
    "RF_TFIDF_Acc_train*100"
   ]
  },
  {
   "cell_type": "code",
   "execution_count": 219,
   "id": "08034ca9",
   "metadata": {},
   "outputs": [
    {
     "data": {
      "text/plain": [
       "array([[18818,     0],\n",
       "       [    0, 17100]], dtype=int64)"
      ]
     },
     "execution_count": 219,
     "metadata": {},
     "output_type": "execute_result"
    }
   ],
   "source": [
    "RF_TFIDF_train_conf_mat = confusion_matrix(RF_TFIDF_Results_train, y_train_tfidf)\n",
    "RF_TFIDF_train_conf_mat"
   ]
  },
  {
   "cell_type": "code",
   "execution_count": 220,
   "id": "7ceb679e",
   "metadata": {},
   "outputs": [],
   "source": [
    "RF_TFIDF_Results = RF_TFIDF_Model.predict(x_test_tfidf)"
   ]
  },
  {
   "cell_type": "code",
   "execution_count": 221,
   "id": "5dabe248",
   "metadata": {},
   "outputs": [
    {
     "data": {
      "text/plain": [
       "98.65256124721603"
      ]
     },
     "execution_count": 221,
     "metadata": {},
     "output_type": "execute_result"
    }
   ],
   "source": [
    "RF_TFIDF_Acc = accuracy_score(RF_TFIDF_Results, y_test_tfidf)\n",
    "RF_TFIDF_Acc*100"
   ]
  },
  {
   "cell_type": "code",
   "execution_count": 222,
   "id": "84bf3c90",
   "metadata": {},
   "outputs": [
    {
     "data": {
      "text/plain": [
       "array([[4605,   63],\n",
       "       [  58, 4254]], dtype=int64)"
      ]
     },
     "execution_count": 222,
     "metadata": {},
     "output_type": "execute_result"
    }
   ],
   "source": [
    "RF_TFIDF_conf_mat = confusion_matrix(RF_TFIDF_Results, y_test_tfidf)\n",
    "RF_TFIDF_conf_mat"
   ]
  },
  {
   "cell_type": "code",
   "execution_count": 223,
   "id": "fb978745",
   "metadata": {},
   "outputs": [
    {
     "name": "stdout",
     "output_type": "stream",
     "text": [
      "              precision    recall  f1-score   support\n",
      "\n",
      "           0       0.99      0.99      0.99      4668\n",
      "           1       0.99      0.99      0.99      4312\n",
      "\n",
      "    accuracy                           0.99      8980\n",
      "   macro avg       0.99      0.99      0.99      8980\n",
      "weighted avg       0.99      0.99      0.99      8980\n",
      "\n"
     ]
    }
   ],
   "source": [
    "RF_TFIDF_report = classification_report(RF_TFIDF_Results, y_test_tfidf)\n",
    "print(RF_TFIDF_report)"
   ]
  },
  {
   "cell_type": "markdown",
   "id": "95c8ad4a",
   "metadata": {},
   "source": [
    "***Decision Tree TF-IDF***"
   ]
  },
  {
   "cell_type": "code",
   "execution_count": 224,
   "id": "4248386a",
   "metadata": {},
   "outputs": [],
   "source": [
    "DT_TFIDF_Model = DT.fit(x_train_tfidf, y_train_tfidf)"
   ]
  },
  {
   "cell_type": "code",
   "execution_count": 225,
   "id": "5e7587ec",
   "metadata": {},
   "outputs": [],
   "source": [
    "DT_TFIDF_Results_train = DT_TFIDF_Model.predict(x_train_tfidf)"
   ]
  },
  {
   "cell_type": "code",
   "execution_count": 226,
   "id": "2f905c64",
   "metadata": {},
   "outputs": [
    {
     "data": {
      "text/plain": [
       "100.0"
      ]
     },
     "execution_count": 226,
     "metadata": {},
     "output_type": "execute_result"
    }
   ],
   "source": [
    "DT_TFIDF_Acc_train = accuracy_score(DT_TFIDF_Results_train, y_train_tfidf)\n",
    "DT_TFIDF_Acc_train*100"
   ]
  },
  {
   "cell_type": "code",
   "execution_count": 227,
   "id": "58e69a77",
   "metadata": {},
   "outputs": [
    {
     "data": {
      "text/plain": [
       "array([[18818,     0],\n",
       "       [    0, 17100]], dtype=int64)"
      ]
     },
     "execution_count": 227,
     "metadata": {},
     "output_type": "execute_result"
    }
   ],
   "source": [
    "DT_TFIDF_train_conf_mat = confusion_matrix(DT_TFIDF_Results_train, y_train_tfidf)\n",
    "DT_TFIDF_train_conf_mat"
   ]
  },
  {
   "cell_type": "code",
   "execution_count": 228,
   "id": "80c0439c",
   "metadata": {},
   "outputs": [],
   "source": [
    "DT_TFIDF_Results = DT_TFIDF_Model.predict(x_test_tfidf)"
   ]
  },
  {
   "cell_type": "code",
   "execution_count": 229,
   "id": "8c702edd",
   "metadata": {},
   "outputs": [
    {
     "data": {
      "text/plain": [
       "97.73942093541203"
      ]
     },
     "execution_count": 229,
     "metadata": {},
     "output_type": "execute_result"
    }
   ],
   "source": [
    "DT_TFIDF_Acc = accuracy_score(DT_TFIDF_Results, y_test_tfidf)\n",
    "DT_TFIDF_Acc*100"
   ]
  },
  {
   "cell_type": "code",
   "execution_count": 230,
   "id": "70307906",
   "metadata": {},
   "outputs": [
    {
     "data": {
      "text/plain": [
       "array([[4578,  118],\n",
       "       [  85, 4199]], dtype=int64)"
      ]
     },
     "execution_count": 230,
     "metadata": {},
     "output_type": "execute_result"
    }
   ],
   "source": [
    "DT_TFIDF_conf_mat = confusion_matrix(DT_TFIDF_Results, y_test_tfidf)\n",
    "DT_TFIDF_conf_mat"
   ]
  },
  {
   "cell_type": "code",
   "execution_count": 231,
   "id": "5aca67fe",
   "metadata": {},
   "outputs": [
    {
     "name": "stdout",
     "output_type": "stream",
     "text": [
      "              precision    recall  f1-score   support\n",
      "\n",
      "           0       0.98      0.97      0.98      4696\n",
      "           1       0.97      0.98      0.98      4284\n",
      "\n",
      "    accuracy                           0.98      8980\n",
      "   macro avg       0.98      0.98      0.98      8980\n",
      "weighted avg       0.98      0.98      0.98      8980\n",
      "\n"
     ]
    }
   ],
   "source": [
    "DT_TFIDF_report = classification_report(DT_TFIDF_Results, y_test_tfidf)\n",
    "print(DT_TFIDF_report)"
   ]
  },
  {
   "cell_type": "markdown",
   "id": "ebc904db",
   "metadata": {},
   "source": [
    "***Enhanced NLP Features***"
   ]
  },
  {
   "cell_type": "code",
   "execution_count": 232,
   "id": "36a72d90",
   "metadata": {},
   "outputs": [],
   "source": [
    "fake_news_df = pd.read_csv(r\"path\\to\\data\\fake.csv\")\n",
    "true_news_df = pd.read_csv(r\"path\\to\\data\\true.csv\")\n",
    "fake_news_df_backup = fake_news_df\n",
    "true_news_df_backup = true_news_df"
   ]
  },
  {
   "cell_type": "code",
   "execution_count": 233,
   "id": "a708c500",
   "metadata": {},
   "outputs": [],
   "source": [
    "def Pos_tagging_nouns(df, ColumnName):\n",
    "    for i in range(len(df[ColumnName])):\n",
    "        tag_words = []\n",
    "        tokens = word_tokenize(df[ColumnName][i].lower())\n",
    "        removed_stopwords = [word for word in tokens if (not word in stop_words) and (word.isalpha())]\n",
    "        lemmas = [wordnet_lem.lemmatize(word) for word in removed_stopwords]\n",
    "        stems = [eng_stems.stem(word) for word in lemmas]\n",
    "        pos_tags = pos_tag(stems)\n",
    "        for j in range(len(pos_tags)):\n",
    "            if pos_tags[j][1] in [\"NN\", \"NNS\" ,\"NNP\", \"NNPS\"]:\n",
    "                tag_words.append(pos_tags[j][0])\n",
    "        df[ColumnName][i] = tag_words\n",
    "    return df"
   ]
  },
  {
   "cell_type": "code",
   "execution_count": 234,
   "id": "795f0153",
   "metadata": {},
   "outputs": [],
   "source": [
    "fake_news_df = Pos_tagging_nouns(fake_news_df, 'title')\n",
    "fake_new_df = Pos_tagging_nouns(fake_news_df, 'text')\n",
    "true_news_df = Pos_tagging_nouns(true_news_df, 'title')\n",
    "true_news_df = Pos_tagging_nouns(true_news_df, 'text')"
   ]
  },
  {
   "cell_type": "code",
   "execution_count": 235,
   "id": "46a048d9",
   "metadata": {},
   "outputs": [
    {
     "data": {
      "text/html": [
       "<div>\n",
       "<style scoped>\n",
       "    .dataframe tbody tr th:only-of-type {\n",
       "        vertical-align: middle;\n",
       "    }\n",
       "\n",
       "    .dataframe tbody tr th {\n",
       "        vertical-align: top;\n",
       "    }\n",
       "\n",
       "    .dataframe thead th {\n",
       "        text-align: right;\n",
       "    }\n",
       "</style>\n",
       "<table border=\"1\" class=\"dataframe\">\n",
       "  <thead>\n",
       "    <tr style=\"text-align: right;\">\n",
       "      <th></th>\n",
       "      <th>title</th>\n",
       "      <th>text</th>\n",
       "      <th>subject</th>\n",
       "      <th>date</th>\n",
       "    </tr>\n",
       "  </thead>\n",
       "  <tbody>\n",
       "    <tr>\n",
       "      <th>0</th>\n",
       "      <td>[trump, embarrass, year, messag, disturb]</td>\n",
       "      <td>[donald, trump, happi, year, leav, shout, enem...</td>\n",
       "      <td>News</td>\n",
       "      <td>December 31, 2017</td>\n",
       "    </tr>\n",
       "    <tr>\n",
       "      <th>1</th>\n",
       "      <td>[drunk, brag, trump, start, collus, investig]</td>\n",
       "      <td>[intellig, committe, chairman, devin, nune, da...</td>\n",
       "      <td>News</td>\n",
       "      <td>December 31, 2017</td>\n",
       "    </tr>\n",
       "    <tr>\n",
       "      <th>2</th>\n",
       "      <td>[sheriff, david, clark, becom, internet, joke,...</td>\n",
       "      <td>[milwauke, sheriff, david, clark, consid, home...</td>\n",
       "      <td>News</td>\n",
       "      <td>December 30, 2017</td>\n",
       "    </tr>\n",
       "    <tr>\n",
       "      <th>3</th>\n",
       "      <td>[trump, name, code, websit, imag]</td>\n",
       "      <td>[day, trump, announc, work, day, golf, day, re...</td>\n",
       "      <td>News</td>\n",
       "      <td>December 29, 2017</td>\n",
       "    </tr>\n",
       "    <tr>\n",
       "      <th>4</th>\n",
       "      <td>[pope, franci, call, donald, trump, christma, ...</td>\n",
       "      <td>[pope, franci, christma, day, rebuk, donald, t...</td>\n",
       "      <td>News</td>\n",
       "      <td>December 25, 2017</td>\n",
       "    </tr>\n",
       "  </tbody>\n",
       "</table>\n",
       "</div>"
      ],
      "text/plain": [
       "                                               title  \\\n",
       "0          [trump, embarrass, year, messag, disturb]   \n",
       "1      [drunk, brag, trump, start, collus, investig]   \n",
       "2  [sheriff, david, clark, becom, internet, joke,...   \n",
       "3                  [trump, name, code, websit, imag]   \n",
       "4  [pope, franci, call, donald, trump, christma, ...   \n",
       "\n",
       "                                                text subject  \\\n",
       "0  [donald, trump, happi, year, leav, shout, enem...    News   \n",
       "1  [intellig, committe, chairman, devin, nune, da...    News   \n",
       "2  [milwauke, sheriff, david, clark, consid, home...    News   \n",
       "3  [day, trump, announc, work, day, golf, day, re...    News   \n",
       "4  [pope, franci, christma, day, rebuk, donald, t...    News   \n",
       "\n",
       "                date  \n",
       "0  December 31, 2017  \n",
       "1  December 31, 2017  \n",
       "2  December 30, 2017  \n",
       "3  December 29, 2017  \n",
       "4  December 25, 2017  "
      ]
     },
     "execution_count": 235,
     "metadata": {},
     "output_type": "execute_result"
    }
   ],
   "source": [
    "fake_new_df.head()"
   ]
  },
  {
   "cell_type": "code",
   "execution_count": 236,
   "id": "e829c42c",
   "metadata": {},
   "outputs": [
    {
     "data": {
      "text/html": [
       "<div>\n",
       "<style scoped>\n",
       "    .dataframe tbody tr th:only-of-type {\n",
       "        vertical-align: middle;\n",
       "    }\n",
       "\n",
       "    .dataframe tbody tr th {\n",
       "        vertical-align: top;\n",
       "    }\n",
       "\n",
       "    .dataframe thead th {\n",
       "        text-align: right;\n",
       "    }\n",
       "</style>\n",
       "<table border=\"1\" class=\"dataframe\">\n",
       "  <thead>\n",
       "    <tr style=\"text-align: right;\">\n",
       "      <th></th>\n",
       "      <th>title</th>\n",
       "      <th>text</th>\n",
       "      <th>subject</th>\n",
       "      <th>date</th>\n",
       "    </tr>\n",
       "  </thead>\n",
       "  <tbody>\n",
       "    <tr>\n",
       "      <th>0</th>\n",
       "      <td>[budget, fight, loom, flip, script]</td>\n",
       "      <td>[washington, reuter, head, faction, congress, ...</td>\n",
       "      <td>politicsNews</td>\n",
       "      <td>December 31, 2017</td>\n",
       "    </tr>\n",
       "    <tr>\n",
       "      <th>1</th>\n",
       "      <td>[militari, recruit, monday, pentagon]</td>\n",
       "      <td>[washington, reuter, peopl, time, enlist, star...</td>\n",
       "      <td>politicsNews</td>\n",
       "      <td>December 29, 2017</td>\n",
       "    </tr>\n",
       "    <tr>\n",
       "      <th>2</th>\n",
       "      <td>[senat, mueller, job]</td>\n",
       "      <td>[washington, reuter, counsel, investig, link, ...</td>\n",
       "      <td>politicsNews</td>\n",
       "      <td>December 31, 2017</td>\n",
       "    </tr>\n",
       "    <tr>\n",
       "      <th>3</th>\n",
       "      <td>[fbi, russia, probe, help, diplomat, nyt]</td>\n",
       "      <td>[washington, reuter, trump, campaign, georg, p...</td>\n",
       "      <td>politicsNews</td>\n",
       "      <td>December 30, 2017</td>\n",
       "    </tr>\n",
       "    <tr>\n",
       "      <th>4</th>\n",
       "      <td>[trump, charg, amazon, shipment]</td>\n",
       "      <td>[reuter, presid, donald, trump, call, servic, ...</td>\n",
       "      <td>politicsNews</td>\n",
       "      <td>December 29, 2017</td>\n",
       "    </tr>\n",
       "  </tbody>\n",
       "</table>\n",
       "</div>"
      ],
      "text/plain": [
       "                                       title  \\\n",
       "0        [budget, fight, loom, flip, script]   \n",
       "1      [militari, recruit, monday, pentagon]   \n",
       "2                      [senat, mueller, job]   \n",
       "3  [fbi, russia, probe, help, diplomat, nyt]   \n",
       "4           [trump, charg, amazon, shipment]   \n",
       "\n",
       "                                                text       subject  \\\n",
       "0  [washington, reuter, head, faction, congress, ...  politicsNews   \n",
       "1  [washington, reuter, peopl, time, enlist, star...  politicsNews   \n",
       "2  [washington, reuter, counsel, investig, link, ...  politicsNews   \n",
       "3  [washington, reuter, trump, campaign, georg, p...  politicsNews   \n",
       "4  [reuter, presid, donald, trump, call, servic, ...  politicsNews   \n",
       "\n",
       "                 date  \n",
       "0  December 31, 2017   \n",
       "1  December 29, 2017   \n",
       "2  December 31, 2017   \n",
       "3  December 30, 2017   \n",
       "4  December 29, 2017   "
      ]
     },
     "execution_count": 236,
     "metadata": {},
     "output_type": "execute_result"
    }
   ],
   "source": [
    "true_news_df.head()"
   ]
  },
  {
   "cell_type": "code",
   "execution_count": 237,
   "id": "dc1d53dd",
   "metadata": {},
   "outputs": [],
   "source": [
    "fake_news_df['label'] = 0\n",
    "true_news_df['label'] = 1"
   ]
  },
  {
   "cell_type": "code",
   "execution_count": 238,
   "id": "8f345083",
   "metadata": {},
   "outputs": [],
   "source": [
    "fake_news_df_backup_1 = fake_new_df\n",
    "true_news_df_backup_1 = true_news_df"
   ]
  },
  {
   "cell_type": "code",
   "execution_count": 239,
   "id": "df087a95",
   "metadata": {},
   "outputs": [],
   "source": [
    "df3 = pd.concat([fake_news_df, true_news_df])"
   ]
  },
  {
   "cell_type": "code",
   "execution_count": 240,
   "id": "27e0262b",
   "metadata": {},
   "outputs": [
    {
     "data": {
      "text/html": [
       "<div>\n",
       "<style scoped>\n",
       "    .dataframe tbody tr th:only-of-type {\n",
       "        vertical-align: middle;\n",
       "    }\n",
       "\n",
       "    .dataframe tbody tr th {\n",
       "        vertical-align: top;\n",
       "    }\n",
       "\n",
       "    .dataframe thead th {\n",
       "        text-align: right;\n",
       "    }\n",
       "</style>\n",
       "<table border=\"1\" class=\"dataframe\">\n",
       "  <thead>\n",
       "    <tr style=\"text-align: right;\">\n",
       "      <th></th>\n",
       "      <th>title</th>\n",
       "      <th>text</th>\n",
       "      <th>subject</th>\n",
       "      <th>date</th>\n",
       "      <th>label</th>\n",
       "    </tr>\n",
       "  </thead>\n",
       "  <tbody>\n",
       "    <tr>\n",
       "      <th>0</th>\n",
       "      <td>[vow, fight, syria, denounc, deal]</td>\n",
       "      <td>[beirut, reuter, al, qaeda, branch, syria, fig...</td>\n",
       "      <td>worldnews</td>\n",
       "      <td>September 16, 2017</td>\n",
       "      <td>1</td>\n",
       "    </tr>\n",
       "    <tr>\n",
       "      <th>1</th>\n",
       "      <td>[senat, ask, fbi, probe, icahn, biofuel, push]</td>\n",
       "      <td>[washington, reuter, democrat, senat, wednesda...</td>\n",
       "      <td>politicsNews</td>\n",
       "      <td>August 30, 2017</td>\n",
       "      <td>1</td>\n",
       "    </tr>\n",
       "    <tr>\n",
       "      <th>2</th>\n",
       "      <td>[dutch, join, austria, road, toll, plan]</td>\n",
       "      <td>[reuter, dutch, govern, join, austria, court, ...</td>\n",
       "      <td>worldnews</td>\n",
       "      <td>December 13, 2017</td>\n",
       "      <td>1</td>\n",
       "    </tr>\n",
       "    <tr>\n",
       "      <th>3</th>\n",
       "      <td>[clinton, deceit, bet]</td>\n",
       "      <td>[lawyer, conspir, constitut, rule, rule, commi...</td>\n",
       "      <td>left-news</td>\n",
       "      <td>Apr 15, 2015</td>\n",
       "      <td>0</td>\n",
       "    </tr>\n",
       "    <tr>\n",
       "      <th>4</th>\n",
       "      <td>[minist, visit, syria, raqqa, talk]</td>\n",
       "      <td>[beirut, reuter, saudi, visit, syria, envoy, d...</td>\n",
       "      <td>worldnews</td>\n",
       "      <td>October 19, 2017</td>\n",
       "      <td>1</td>\n",
       "    </tr>\n",
       "  </tbody>\n",
       "</table>\n",
       "</div>"
      ],
      "text/plain": [
       "                                            title  \\\n",
       "0              [vow, fight, syria, denounc, deal]   \n",
       "1  [senat, ask, fbi, probe, icahn, biofuel, push]   \n",
       "2        [dutch, join, austria, road, toll, plan]   \n",
       "3                          [clinton, deceit, bet]   \n",
       "4             [minist, visit, syria, raqqa, talk]   \n",
       "\n",
       "                                                text       subject  \\\n",
       "0  [beirut, reuter, al, qaeda, branch, syria, fig...     worldnews   \n",
       "1  [washington, reuter, democrat, senat, wednesda...  politicsNews   \n",
       "2  [reuter, dutch, govern, join, austria, court, ...     worldnews   \n",
       "3  [lawyer, conspir, constitut, rule, rule, commi...     left-news   \n",
       "4  [beirut, reuter, saudi, visit, syria, envoy, d...     worldnews   \n",
       "\n",
       "                  date  label  \n",
       "0  September 16, 2017       1  \n",
       "1     August 30, 2017       1  \n",
       "2   December 13, 2017       1  \n",
       "3         Apr 15, 2015      0  \n",
       "4    October 19, 2017       1  "
      ]
     },
     "execution_count": 240,
     "metadata": {},
     "output_type": "execute_result"
    }
   ],
   "source": [
    "df3 = df3.sample(frac=1).reset_index(drop=True)\n",
    "df3.head()"
   ]
  },
  {
   "cell_type": "code",
   "execution_count": 241,
   "id": "2cd37714",
   "metadata": {},
   "outputs": [],
   "source": [
    "df3['title'] = df3['title'].apply(lambda a: ' '.join(a))\n",
    "df3['text'] = df3['text'].apply(lambda b: ' '.join(b))"
   ]
  },
  {
   "cell_type": "code",
   "execution_count": 242,
   "id": "3f3015bc",
   "metadata": {},
   "outputs": [
    {
     "data": {
      "text/html": [
       "<div>\n",
       "<style scoped>\n",
       "    .dataframe tbody tr th:only-of-type {\n",
       "        vertical-align: middle;\n",
       "    }\n",
       "\n",
       "    .dataframe tbody tr th {\n",
       "        vertical-align: top;\n",
       "    }\n",
       "\n",
       "    .dataframe thead th {\n",
       "        text-align: right;\n",
       "    }\n",
       "</style>\n",
       "<table border=\"1\" class=\"dataframe\">\n",
       "  <thead>\n",
       "    <tr style=\"text-align: right;\">\n",
       "      <th></th>\n",
       "      <th>title</th>\n",
       "      <th>text</th>\n",
       "      <th>subject</th>\n",
       "      <th>date</th>\n",
       "      <th>label</th>\n",
       "    </tr>\n",
       "  </thead>\n",
       "  <tbody>\n",
       "    <tr>\n",
       "      <th>0</th>\n",
       "      <td>vow fight syria denounc deal</td>\n",
       "      <td>beirut reuter al qaeda branch syria fight forc...</td>\n",
       "      <td>worldnews</td>\n",
       "      <td>September 16, 2017</td>\n",
       "      <td>1</td>\n",
       "    </tr>\n",
       "    <tr>\n",
       "      <th>1</th>\n",
       "      <td>senat ask fbi probe icahn biofuel push</td>\n",
       "      <td>washington reuter democrat senat wednesday fbi...</td>\n",
       "      <td>politicsNews</td>\n",
       "      <td>August 30, 2017</td>\n",
       "      <td>1</td>\n",
       "    </tr>\n",
       "    <tr>\n",
       "      <th>2</th>\n",
       "      <td>dutch join austria road toll plan</td>\n",
       "      <td>reuter dutch govern join austria court plan ro...</td>\n",
       "      <td>worldnews</td>\n",
       "      <td>December 13, 2017</td>\n",
       "      <td>1</td>\n",
       "    </tr>\n",
       "    <tr>\n",
       "      <th>3</th>\n",
       "      <td>clinton deceit bet</td>\n",
       "      <td>lawyer conspir constitut rule rule committe ru...</td>\n",
       "      <td>left-news</td>\n",
       "      <td>Apr 15, 2015</td>\n",
       "      <td>0</td>\n",
       "    </tr>\n",
       "    <tr>\n",
       "      <th>4</th>\n",
       "      <td>minist visit syria raqqa talk</td>\n",
       "      <td>beirut reuter saudi visit syria envoy discus r...</td>\n",
       "      <td>worldnews</td>\n",
       "      <td>October 19, 2017</td>\n",
       "      <td>1</td>\n",
       "    </tr>\n",
       "  </tbody>\n",
       "</table>\n",
       "</div>"
      ],
      "text/plain": [
       "                                    title  \\\n",
       "0            vow fight syria denounc deal   \n",
       "1  senat ask fbi probe icahn biofuel push   \n",
       "2       dutch join austria road toll plan   \n",
       "3                      clinton deceit bet   \n",
       "4           minist visit syria raqqa talk   \n",
       "\n",
       "                                                text       subject  \\\n",
       "0  beirut reuter al qaeda branch syria fight forc...     worldnews   \n",
       "1  washington reuter democrat senat wednesday fbi...  politicsNews   \n",
       "2  reuter dutch govern join austria court plan ro...     worldnews   \n",
       "3  lawyer conspir constitut rule rule committe ru...     left-news   \n",
       "4  beirut reuter saudi visit syria envoy discus r...     worldnews   \n",
       "\n",
       "                  date  label  \n",
       "0  September 16, 2017       1  \n",
       "1     August 30, 2017       1  \n",
       "2   December 13, 2017       1  \n",
       "3         Apr 15, 2015      0  \n",
       "4    October 19, 2017       1  "
      ]
     },
     "execution_count": 242,
     "metadata": {},
     "output_type": "execute_result"
    }
   ],
   "source": [
    "df3.head()"
   ]
  },
  {
   "cell_type": "code",
   "execution_count": 243,
   "id": "db232f90",
   "metadata": {},
   "outputs": [],
   "source": [
    "df3[\"combined_text\"] = df3['title'] + df3['text']"
   ]
  },
  {
   "cell_type": "code",
   "execution_count": 244,
   "id": "facdd775",
   "metadata": {},
   "outputs": [],
   "source": [
    "X1 = counter.fit_transform(df3[\"combined_text\"])"
   ]
  },
  {
   "cell_type": "code",
   "execution_count": 245,
   "id": "4c6c8bbc",
   "metadata": {},
   "outputs": [],
   "source": [
    "vocabulary1 = counter.get_feature_names_out()\n",
    "document_term_matrix1 = X1.toarray()"
   ]
  },
  {
   "cell_type": "code",
   "execution_count": 246,
   "id": "ba89ca09",
   "metadata": {},
   "outputs": [],
   "source": [
    "document_term_matrix1 = document_term_matrix1.astype(np.uint8)"
   ]
  },
  {
   "cell_type": "code",
   "execution_count": 247,
   "id": "3dc4421c",
   "metadata": {},
   "outputs": [],
   "source": [
    "df3[\"label\"] = df3[\"label\"].astype(np.uint8)"
   ]
  },
  {
   "cell_type": "code",
   "execution_count": 248,
   "id": "88eeb4e3",
   "metadata": {},
   "outputs": [],
   "source": [
    "x_train1, x_test1, y_train1, y_test1 = train_test_split(document_term_matrix1, df3[\"label\"], test_size=0.2, random_state=42)"
   ]
  },
  {
   "cell_type": "code",
   "execution_count": 249,
   "id": "99ae3c00",
   "metadata": {},
   "outputs": [],
   "source": [
    "x_train1 = csr_matrix(x_train1)\n",
    "x_test1 = csr_matrix(x_test1)"
   ]
  },
  {
   "cell_type": "markdown",
   "id": "a67fbedc",
   "metadata": {},
   "source": [
    "***NB BOW With Only Nouns***"
   ]
  },
  {
   "cell_type": "code",
   "execution_count": 250,
   "id": "7395b911",
   "metadata": {},
   "outputs": [],
   "source": [
    "NB = MultinomialNB()"
   ]
  },
  {
   "cell_type": "code",
   "execution_count": 251,
   "id": "27c73520",
   "metadata": {},
   "outputs": [],
   "source": [
    "NB_BOW_Model1 = NB.fit(x_train1, y_train1)"
   ]
  },
  {
   "cell_type": "code",
   "execution_count": 252,
   "id": "292fe3f7",
   "metadata": {},
   "outputs": [],
   "source": [
    "NB_BOW_Results_train1 = NB_BOW_Model1.predict(x_train1)"
   ]
  },
  {
   "cell_type": "code",
   "execution_count": 253,
   "id": "e132b523",
   "metadata": {},
   "outputs": [
    {
     "data": {
      "text/plain": [
       "94.66284314271395"
      ]
     },
     "execution_count": 253,
     "metadata": {},
     "output_type": "execute_result"
    }
   ],
   "source": [
    "NB_BoW_Acc_train1 = accuracy_score(NB_BOW_Results_train1, y_train1)\n",
    "NB_BoW_Acc_train1*100"
   ]
  },
  {
   "cell_type": "code",
   "execution_count": 254,
   "id": "19ac2ffc",
   "metadata": {},
   "outputs": [],
   "source": [
    "NB_BoW_Results1 = NB_BOW_Model1.predict(x_test1)"
   ]
  },
  {
   "cell_type": "code",
   "execution_count": 255,
   "id": "ab16ea7d",
   "metadata": {},
   "outputs": [
    {
     "data": {
      "text/plain": [
       "93.15144766146993"
      ]
     },
     "execution_count": 255,
     "metadata": {},
     "output_type": "execute_result"
    }
   ],
   "source": [
    "NB_BoW_Acc1 = accuracy_score(NB_BoW_Results1, y_test1)\n",
    "NB_BoW_Acc1*100"
   ]
  },
  {
   "cell_type": "code",
   "execution_count": 256,
   "id": "ac3eae88",
   "metadata": {},
   "outputs": [
    {
     "data": {
      "text/plain": [
       "array([[4387,  307],\n",
       "       [ 308, 3978]], dtype=int64)"
      ]
     },
     "execution_count": 256,
     "metadata": {},
     "output_type": "execute_result"
    }
   ],
   "source": [
    "NB_BOW_conf_mat1 = confusion_matrix(NB_BoW_Results1, y_test1)\n",
    "NB_BOW_conf_mat1"
   ]
  },
  {
   "cell_type": "code",
   "execution_count": 257,
   "id": "13e1c65d",
   "metadata": {},
   "outputs": [
    {
     "name": "stdout",
     "output_type": "stream",
     "text": [
      "              precision    recall  f1-score   support\n",
      "\n",
      "           0       0.93      0.93      0.93      4694\n",
      "           1       0.93      0.93      0.93      4286\n",
      "\n",
      "    accuracy                           0.93      8980\n",
      "   macro avg       0.93      0.93      0.93      8980\n",
      "weighted avg       0.93      0.93      0.93      8980\n",
      "\n"
     ]
    }
   ],
   "source": [
    "NB_BOW_Report1 = classification_report(NB_BoW_Results1, y_test1)\n",
    "print(NB_BOW_Report1)"
   ]
  },
  {
   "cell_type": "markdown",
   "id": "9a72f270",
   "metadata": {},
   "source": [
    "***Random Forest with only Nouns***"
   ]
  },
  {
   "cell_type": "code",
   "execution_count": 258,
   "id": "67b4c76e",
   "metadata": {},
   "outputs": [],
   "source": [
    "RF = RandomForestClassifier()"
   ]
  },
  {
   "cell_type": "code",
   "execution_count": 259,
   "id": "748b81f9",
   "metadata": {},
   "outputs": [],
   "source": [
    "rf_BOW_Model1 = RF.fit(x_train1, y_train1)"
   ]
  },
  {
   "cell_type": "code",
   "execution_count": 260,
   "id": "bfa8618e",
   "metadata": {},
   "outputs": [],
   "source": [
    "rf_BOW_results_train1 = rf_BOW_Model1.predict(x_train1)"
   ]
  },
  {
   "cell_type": "code",
   "execution_count": 261,
   "id": "479fbaaf",
   "metadata": {},
   "outputs": [
    {
     "data": {
      "text/plain": [
       "100.0"
      ]
     },
     "execution_count": 261,
     "metadata": {},
     "output_type": "execute_result"
    }
   ],
   "source": [
    "rf_BOW_Acc_train1 = accuracy_score(rf_BOW_results_train1, y_train1)\n",
    "rf_BOW_Acc_train1*100"
   ]
  },
  {
   "cell_type": "code",
   "execution_count": 262,
   "id": "9fdc3c73",
   "metadata": {},
   "outputs": [],
   "source": [
    "rf_BOW_Results1 = rf_BOW_Model1.predict(x_test1)"
   ]
  },
  {
   "cell_type": "code",
   "execution_count": 263,
   "id": "42002a55",
   "metadata": {},
   "outputs": [
    {
     "data": {
      "text/plain": [
       "97.50556792873051"
      ]
     },
     "execution_count": 263,
     "metadata": {},
     "output_type": "execute_result"
    }
   ],
   "source": [
    "rf_BOW_Acc1 = accuracy_score(rf_BOW_Results1, y_test1)\n",
    "rf_BOW_Acc1*100"
   ]
  },
  {
   "cell_type": "code",
   "execution_count": 264,
   "id": "765986ec",
   "metadata": {},
   "outputs": [
    {
     "data": {
      "text/plain": [
       "array([[4582,  111],\n",
       "       [ 113, 4174]], dtype=int64)"
      ]
     },
     "execution_count": 264,
     "metadata": {},
     "output_type": "execute_result"
    }
   ],
   "source": [
    "rf_BOW_conf_mat1 = confusion_matrix(rf_BOW_Results1, y_test1)\n",
    "rf_BOW_conf_mat1"
   ]
  },
  {
   "cell_type": "code",
   "execution_count": 265,
   "id": "9a809b19",
   "metadata": {},
   "outputs": [
    {
     "name": "stdout",
     "output_type": "stream",
     "text": [
      "              precision    recall  f1-score   support\n",
      "\n",
      "           0       0.98      0.98      0.98      4693\n",
      "           1       0.97      0.97      0.97      4287\n",
      "\n",
      "    accuracy                           0.98      8980\n",
      "   macro avg       0.98      0.97      0.98      8980\n",
      "weighted avg       0.98      0.98      0.98      8980\n",
      "\n"
     ]
    }
   ],
   "source": [
    "rf_BOW_Report1 = classification_report(rf_BOW_Results1, y_test1)\n",
    "print(rf_BOW_Report1)"
   ]
  },
  {
   "cell_type": "markdown",
   "id": "b238077c",
   "metadata": {},
   "source": [
    "***Decision Tree with only Nouns***"
   ]
  },
  {
   "cell_type": "code",
   "execution_count": 266,
   "id": "59aa6f5e",
   "metadata": {},
   "outputs": [],
   "source": [
    "DT = DecisionTreeClassifier()"
   ]
  },
  {
   "cell_type": "code",
   "execution_count": 267,
   "id": "7f96c8f3",
   "metadata": {},
   "outputs": [],
   "source": [
    "dt_BOW_Model1 = DT.fit(x_train1, y_train1)"
   ]
  },
  {
   "cell_type": "code",
   "execution_count": 268,
   "id": "22f26530",
   "metadata": {},
   "outputs": [],
   "source": [
    "dt_BOW_Results_train1 = dt_BOW_Model1.predict(x_train1)"
   ]
  },
  {
   "cell_type": "code",
   "execution_count": 269,
   "id": "90d5d222",
   "metadata": {},
   "outputs": [
    {
     "data": {
      "text/plain": [
       "100.0"
      ]
     },
     "execution_count": 269,
     "metadata": {},
     "output_type": "execute_result"
    }
   ],
   "source": [
    "dt_BOW_Acc_train1 = accuracy_score(dt_BOW_Results_train1, y_train1)\n",
    "dt_BOW_Acc_train1*100"
   ]
  },
  {
   "cell_type": "code",
   "execution_count": 270,
   "id": "3c4137f9",
   "metadata": {},
   "outputs": [],
   "source": [
    "dt_BOW_Results1 = dt_BOW_Model1.predict(x_test1)"
   ]
  },
  {
   "cell_type": "code",
   "execution_count": 271,
   "id": "628cb039",
   "metadata": {},
   "outputs": [
    {
     "data": {
      "text/plain": [
       "96.08017817371937"
      ]
     },
     "execution_count": 271,
     "metadata": {},
     "output_type": "execute_result"
    }
   ],
   "source": [
    "dt_BOW_Acc1 = accuracy_score(dt_BOW_Results1, y_test1)\n",
    "dt_BOW_Acc1*100"
   ]
  },
  {
   "cell_type": "code",
   "execution_count": 272,
   "id": "328b7331",
   "metadata": {},
   "outputs": [
    {
     "data": {
      "text/plain": [
       "array([[4576,  233],\n",
       "       [ 119, 4052]], dtype=int64)"
      ]
     },
     "execution_count": 272,
     "metadata": {},
     "output_type": "execute_result"
    }
   ],
   "source": [
    "dt_BOW_conf_mat1 = confusion_matrix(dt_BOW_Results1, y_test1)\n",
    "dt_BOW_conf_mat1"
   ]
  },
  {
   "cell_type": "code",
   "execution_count": 273,
   "id": "82bbb74c",
   "metadata": {},
   "outputs": [
    {
     "name": "stdout",
     "output_type": "stream",
     "text": [
      "              precision    recall  f1-score   support\n",
      "\n",
      "           0       0.97      0.95      0.96      4809\n",
      "           1       0.95      0.97      0.96      4171\n",
      "\n",
      "    accuracy                           0.96      8980\n",
      "   macro avg       0.96      0.96      0.96      8980\n",
      "weighted avg       0.96      0.96      0.96      8980\n",
      "\n"
     ]
    }
   ],
   "source": [
    "dt_BOW_Report1 = classification_report(dt_BOW_Results1, y_test1)\n",
    "print(dt_BOW_Report1)"
   ]
  },
  {
   "cell_type": "code",
   "execution_count": 274,
   "id": "cd0f9bb0",
   "metadata": {},
   "outputs": [],
   "source": [
    "def Pos_tagging_adj(df, ColumnName):\n",
    "    for i in range(len(df[ColumnName])):\n",
    "        tag_words = []\n",
    "        tokens = word_tokenize(df[ColumnName][i].lower())\n",
    "        removed_stopwords = [word for word in tokens if (not word in stop_words) and (word.isalpha())]\n",
    "        lemmas = [wordnet_lem.lemmatize(word) for word in removed_stopwords]\n",
    "        stems = [eng_stems.stem(word) for word in lemmas]\n",
    "        pos_tags = pos_tag(stems)\n",
    "        for j in range(len(pos_tags)):\n",
    "            if pos_tags[j][1] in [\"JJ\", \"JJR\", \"JJS\", \"JJ*\"]:\n",
    "                tag_words.append(pos_tags[j][0])\n",
    "        df[ColumnName][i] = tag_words\n",
    "    return df"
   ]
  },
  {
   "cell_type": "code",
   "execution_count": 275,
   "id": "7a44daba",
   "metadata": {},
   "outputs": [],
   "source": [
    "fake_news_df = pd.read_csv(r\"path\\to\\data\\fake.csv\")\n",
    "true_news_df = pd.read_csv(r\"path\\to\\data\\true.csv\")\n",
    "fake_news_df_backup = fake_news_df\n",
    "true_news_df_backup = true_news_df"
   ]
  },
  {
   "cell_type": "code",
   "execution_count": 276,
   "id": "697be802",
   "metadata": {},
   "outputs": [],
   "source": [
    "fake_news_df = Pos_tagging_adj(fake_news_df, 'title')\n",
    "fake_news_df = Pos_tagging_adj(fake_news_df, 'text')\n",
    "true_news_df = Pos_tagging_adj(true_news_df, 'title')\n",
    "true_news_df = Pos_tagging_adj(true_news_df, 'text')"
   ]
  },
  {
   "cell_type": "code",
   "execution_count": 277,
   "id": "aa00ce96",
   "metadata": {},
   "outputs": [],
   "source": [
    "fake_news_df[\"labels\"] = 0\n",
    "true_news_df[\"labels\"] = 1"
   ]
  },
  {
   "cell_type": "code",
   "execution_count": 278,
   "id": "7f4ff249",
   "metadata": {},
   "outputs": [],
   "source": [
    "fake_news_df_backup_2 = fake_new_df\n",
    "true_news_df_backup_2 = true_news_df"
   ]
  },
  {
   "cell_type": "code",
   "execution_count": 279,
   "id": "efd25541",
   "metadata": {},
   "outputs": [],
   "source": [
    "df4 = pd.concat([fake_news_df, true_news_df])"
   ]
  },
  {
   "cell_type": "code",
   "execution_count": 280,
   "id": "12fd9a33",
   "metadata": {},
   "outputs": [],
   "source": [
    "df4 = pd.concat([fake_news_df, true_news_df])"
   ]
  },
  {
   "cell_type": "code",
   "execution_count": 281,
   "id": "e3fc9ec4",
   "metadata": {},
   "outputs": [
    {
     "data": {
      "text/html": [
       "<div>\n",
       "<style scoped>\n",
       "    .dataframe tbody tr th:only-of-type {\n",
       "        vertical-align: middle;\n",
       "    }\n",
       "\n",
       "    .dataframe tbody tr th {\n",
       "        vertical-align: top;\n",
       "    }\n",
       "\n",
       "    .dataframe thead th {\n",
       "        text-align: right;\n",
       "    }\n",
       "</style>\n",
       "<table border=\"1\" class=\"dataframe\">\n",
       "  <thead>\n",
       "    <tr style=\"text-align: right;\">\n",
       "      <th></th>\n",
       "      <th>title</th>\n",
       "      <th>text</th>\n",
       "      <th>subject</th>\n",
       "      <th>date</th>\n",
       "      <th>labels</th>\n",
       "    </tr>\n",
       "  </thead>\n",
       "  <tbody>\n",
       "    <tr>\n",
       "      <th>0</th>\n",
       "      <td>[beij, north, korea]</td>\n",
       "      <td>[trump, north, unfair, foreign, firm, korea, n...</td>\n",
       "      <td>worldnews</td>\n",
       "      <td>November 9, 2017</td>\n",
       "      <td>1</td>\n",
       "    </tr>\n",
       "    <tr>\n",
       "      <th>1</th>\n",
       "      <td>[key, big]</td>\n",
       "      <td>[stick, suprem, nomine, new, administr, senat,...</td>\n",
       "      <td>politics</td>\n",
       "      <td>Mar 16, 2016</td>\n",
       "      <td>0</td>\n",
       "    </tr>\n",
       "    <tr>\n",
       "      <th>2</th>\n",
       "      <td>[arrest, black]</td>\n",
       "      <td>[freak, awesom, white, white, white, superior,...</td>\n",
       "      <td>News</td>\n",
       "      <td>March 5, 2016</td>\n",
       "      <td>0</td>\n",
       "    </tr>\n",
       "    <tr>\n",
       "      <th>3</th>\n",
       "      <td>[elect]</td>\n",
       "      <td>[prime, snap, elect, next, senior, minor, mond...</td>\n",
       "      <td>worldnews</td>\n",
       "      <td>November 27, 2017</td>\n",
       "      <td>1</td>\n",
       "    </tr>\n",
       "    <tr>\n",
       "      <th>4</th>\n",
       "      <td>[philippin, withdraw]</td>\n",
       "      <td>[tuesday, applic, second, western, critic, hum...</td>\n",
       "      <td>worldnews</td>\n",
       "      <td>December 19, 2017</td>\n",
       "      <td>1</td>\n",
       "    </tr>\n",
       "  </tbody>\n",
       "</table>\n",
       "</div>"
      ],
      "text/plain": [
       "                   title                                               text  \\\n",
       "0   [beij, north, korea]  [trump, north, unfair, foreign, firm, korea, n...   \n",
       "1             [key, big]  [stick, suprem, nomine, new, administr, senat,...   \n",
       "2        [arrest, black]  [freak, awesom, white, white, white, superior,...   \n",
       "3                [elect]  [prime, snap, elect, next, senior, minor, mond...   \n",
       "4  [philippin, withdraw]  [tuesday, applic, second, western, critic, hum...   \n",
       "\n",
       "     subject                date  labels  \n",
       "0  worldnews   November 9, 2017        1  \n",
       "1   politics        Mar 16, 2016       0  \n",
       "2       News       March 5, 2016       0  \n",
       "3  worldnews  November 27, 2017        1  \n",
       "4  worldnews  December 19, 2017        1  "
      ]
     },
     "execution_count": 281,
     "metadata": {},
     "output_type": "execute_result"
    }
   ],
   "source": [
    "df4 = df4.sample(frac=1).reset_index(drop=True)\n",
    "df4.head()"
   ]
  },
  {
   "cell_type": "code",
   "execution_count": 282,
   "id": "50a8c438",
   "metadata": {},
   "outputs": [],
   "source": [
    "df4['title'] = df4['title'].apply(lambda c: ' '.join(c))\n",
    "df4['text'] = df4['text'].apply(lambda d: ' '.join(d))"
   ]
  },
  {
   "cell_type": "code",
   "execution_count": 283,
   "id": "643a3966",
   "metadata": {},
   "outputs": [],
   "source": [
    "df4[\"combined_text\"] = df4['title'] + df4['text']"
   ]
  },
  {
   "cell_type": "code",
   "execution_count": 284,
   "id": "264f91ec",
   "metadata": {},
   "outputs": [],
   "source": [
    "x_train_tfidf1, x_test_tfidf1, y_train_tfidf1, y_test_tfidf1 = train_test_split(df4[\"combined_text\"], df4[\"labels\"], test_size=0.2, random_state=42)"
   ]
  },
  {
   "cell_type": "code",
   "execution_count": 285,
   "id": "9e4ab172",
   "metadata": {},
   "outputs": [],
   "source": [
    "tfidf_vect = TfidfVectorizer()"
   ]
  },
  {
   "cell_type": "code",
   "execution_count": 286,
   "id": "14ee9f66",
   "metadata": {},
   "outputs": [],
   "source": [
    "x_train_tfidf1 = tfidf_vect.fit_transform(x_train_tfidf1)\n",
    "x_test_tfidf1 = tfidf_vect.transform(x_test_tfidf1)"
   ]
  },
  {
   "cell_type": "markdown",
   "id": "865df5fd",
   "metadata": {},
   "source": [
    "***Naive bayes using only adjectives and TF-IDF***"
   ]
  },
  {
   "cell_type": "code",
   "execution_count": 287,
   "id": "0b9f1a78",
   "metadata": {},
   "outputs": [],
   "source": [
    "nb_model_tfidf1 = NB.fit(x_train_tfidf1, y_train_tfidf1)"
   ]
  },
  {
   "cell_type": "code",
   "execution_count": 288,
   "id": "3545b76d",
   "metadata": {},
   "outputs": [],
   "source": [
    "nb_train_results1 = nb_model_tfidf1.predict(x_train_tfidf1)"
   ]
  },
  {
   "cell_type": "code",
   "execution_count": 289,
   "id": "ee3391f8",
   "metadata": {},
   "outputs": [
    {
     "data": {
      "text/plain": [
       "93.04248566178518"
      ]
     },
     "execution_count": 289,
     "metadata": {},
     "output_type": "execute_result"
    }
   ],
   "source": [
    "nb_train_acc1 = accuracy_score(nb_train_results1, y_train_tfidf1)\n",
    "nb_train_acc1*100"
   ]
  },
  {
   "cell_type": "code",
   "execution_count": 290,
   "id": "8cf5b96f",
   "metadata": {},
   "outputs": [],
   "source": [
    "nb_results_tfidf1 = nb_model_tfidf1.predict(x_test_tfidf1)"
   ]
  },
  {
   "cell_type": "code",
   "execution_count": 291,
   "id": "f1b09b72",
   "metadata": {},
   "outputs": [
    {
     "data": {
      "text/plain": [
       "90.96881959910912"
      ]
     },
     "execution_count": 291,
     "metadata": {},
     "output_type": "execute_result"
    }
   ],
   "source": [
    "nb_test_acc1 = accuracy_score(nb_results_tfidf1, y_test_tfidf1)\n",
    "nb_test_acc1*100"
   ]
  },
  {
   "cell_type": "code",
   "execution_count": 304,
   "id": "7a5c7b34",
   "metadata": {},
   "outputs": [
    {
     "name": "stdout",
     "output_type": "stream",
     "text": [
      "              precision    recall  f1-score   support\n",
      "\n",
      "           0       0.92      0.91      0.91      4781\n",
      "           1       0.90      0.91      0.90      4199\n",
      "\n",
      "    accuracy                           0.91      8980\n",
      "   macro avg       0.91      0.91      0.91      8980\n",
      "weighted avg       0.91      0.91      0.91      8980\n",
      "\n"
     ]
    }
   ],
   "source": [
    "nb_test_report1 = classification_report(nb_results_tfidf1, y_test_tfidf1)\n",
    "print(nb_test_report1)"
   ]
  },
  {
   "cell_type": "markdown",
   "id": "dc306e10",
   "metadata": {},
   "source": [
    "***Random Forest using only adjectives and TF-IDF***"
   ]
  },
  {
   "cell_type": "code",
   "execution_count": 292,
   "id": "d888d3a8",
   "metadata": {},
   "outputs": [],
   "source": [
    "rf_model_tfidf1 = RF.fit(x_train_tfidf1, y_train_tfidf1)"
   ]
  },
  {
   "cell_type": "code",
   "execution_count": 293,
   "id": "a3d20525",
   "metadata": {},
   "outputs": [],
   "source": [
    "rf_train_results1 = rf_model_tfidf1.predict(x_train_tfidf1)"
   ]
  },
  {
   "cell_type": "code",
   "execution_count": 294,
   "id": "b1577d37",
   "metadata": {},
   "outputs": [
    {
     "data": {
      "text/plain": [
       "99.99721588061696"
      ]
     },
     "execution_count": 294,
     "metadata": {},
     "output_type": "execute_result"
    }
   ],
   "source": [
    "rf_train_acc1 = accuracy_score(rf_train_results1, y_train_tfidf1)\n",
    "rf_train_acc1*100"
   ]
  },
  {
   "cell_type": "code",
   "execution_count": 295,
   "id": "c87f84e9",
   "metadata": {},
   "outputs": [],
   "source": [
    "rf_results_tfidf1 = rf_model_tfidf1.predict(x_test_tfidf1)"
   ]
  },
  {
   "cell_type": "code",
   "execution_count": 296,
   "id": "75833ede",
   "metadata": {},
   "outputs": [
    {
     "data": {
      "text/plain": [
       "92.85077951002228"
      ]
     },
     "execution_count": 296,
     "metadata": {},
     "output_type": "execute_result"
    }
   ],
   "source": [
    "rf_test_acc1 = accuracy_score(rf_results_tfidf1, y_test_tfidf1)\n",
    "rf_test_acc1*100"
   ]
  },
  {
   "cell_type": "code",
   "execution_count": 302,
   "id": "97a6cb8c",
   "metadata": {},
   "outputs": [
    {
     "name": "stdout",
     "output_type": "stream",
     "text": [
      "              precision    recall  f1-score   support\n",
      "\n",
      "           0       0.93      0.93      0.93      4732\n",
      "           1       0.92      0.93      0.92      4248\n",
      "\n",
      "    accuracy                           0.93      8980\n",
      "   macro avg       0.93      0.93      0.93      8980\n",
      "weighted avg       0.93      0.93      0.93      8980\n",
      "\n"
     ]
    }
   ],
   "source": [
    "rf_test_report1 = classification_report(rf_results_tfidf1, y_test_tfidf1)\n",
    "print(rf_test_report1)"
   ]
  },
  {
   "cell_type": "markdown",
   "id": "24198955",
   "metadata": {},
   "source": [
    "***Decision Tree using only adjectives and TF-IDF***"
   ]
  },
  {
   "cell_type": "code",
   "execution_count": 297,
   "id": "86f62386",
   "metadata": {},
   "outputs": [],
   "source": [
    "dt_model_tfidf1 = DT.fit(x_train_tfidf1, y_train_tfidf1)"
   ]
  },
  {
   "cell_type": "code",
   "execution_count": 298,
   "id": "ecfa777c",
   "metadata": {},
   "outputs": [],
   "source": [
    "dt_train_results1 = dt_model_tfidf1.predict(x_train_tfidf1)"
   ]
  },
  {
   "cell_type": "code",
   "execution_count": 299,
   "id": "aa09a8fc",
   "metadata": {},
   "outputs": [
    {
     "data": {
      "text/plain": [
       "99.99721588061696"
      ]
     },
     "execution_count": 299,
     "metadata": {},
     "output_type": "execute_result"
    }
   ],
   "source": [
    "dt_train_acc1 = accuracy_score(dt_train_results1, y_train_tfidf1)\n",
    "dt_train_acc1*100"
   ]
  },
  {
   "cell_type": "code",
   "execution_count": 300,
   "id": "0048fffd",
   "metadata": {},
   "outputs": [],
   "source": [
    "dt_results_tfidf1 = dt_model_tfidf1.predict(x_test_tfidf1)"
   ]
  },
  {
   "cell_type": "code",
   "execution_count": 301,
   "id": "ec87fd81",
   "metadata": {},
   "outputs": [
    {
     "data": {
      "text/plain": [
       "84.32071269487751"
      ]
     },
     "execution_count": 301,
     "metadata": {},
     "output_type": "execute_result"
    }
   ],
   "source": [
    "dt_test_acc1 = accuracy_score(dt_results_tfidf1, y_test_tfidf1)\n",
    "dt_test_acc1*100"
   ]
  },
  {
   "cell_type": "code",
   "execution_count": 303,
   "id": "f2205aa3",
   "metadata": {},
   "outputs": [
    {
     "name": "stdout",
     "output_type": "stream",
     "text": [
      "              precision    recall  f1-score   support\n",
      "\n",
      "           0       0.86      0.84      0.85      4848\n",
      "           1       0.82      0.85      0.83      4132\n",
      "\n",
      "    accuracy                           0.84      8980\n",
      "   macro avg       0.84      0.84      0.84      8980\n",
      "weighted avg       0.84      0.84      0.84      8980\n",
      "\n"
     ]
    }
   ],
   "source": [
    "dt_test_report1 = classification_report(dt_results_tfidf1, y_test_tfidf1)\n",
    "print(dt_test_report1)"
   ]
  }
 ],
 "metadata": {
  "kernelspec": {
   "display_name": "Python 3 (ipykernel)",
   "language": "python",
   "name": "python3"
  },
  "language_info": {
   "codemirror_mode": {
    "name": "ipython",
    "version": 3
   },
   "file_extension": ".py",
   "mimetype": "text/x-python",
   "name": "python",
   "nbconvert_exporter": "python",
   "pygments_lexer": "ipython3",
   "version": "3.10.9"
  }
 },
 "nbformat": 4,
 "nbformat_minor": 5
}
